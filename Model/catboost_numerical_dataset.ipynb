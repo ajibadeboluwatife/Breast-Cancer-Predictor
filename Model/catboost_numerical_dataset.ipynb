{
 "cells": [
  {
   "cell_type": "markdown",
   "metadata": {},
   "source": [
    "Libraries"
   ]
  },
  {
   "cell_type": "code",
   "execution_count": 1,
   "metadata": {},
   "outputs": [
    {
     "name": "stdout",
     "output_type": "stream",
     "text": [
      "Requirement already satisfied: catboost in d:\\users\\miret\\anaconda3\\envs\\myenv\\lib\\site-packages (1.0.5)\n",
      "Requirement already satisfied: scipy in d:\\users\\miret\\anaconda3\\envs\\myenv\\lib\\site-packages (from catboost) (1.4.1)\n",
      "Requirement already satisfied: plotly in d:\\users\\miret\\anaconda3\\envs\\myenv\\lib\\site-packages (from catboost) (5.7.0)\n",
      "Requirement already satisfied: numpy>=1.16.0 in d:\\users\\miret\\anaconda3\\envs\\myenv\\lib\\site-packages (from catboost) (1.18.1)\n",
      "Requirement already satisfied: graphviz in d:\\users\\miret\\anaconda3\\envs\\myenv\\lib\\site-packages (from catboost) (0.19.1)\n",
      "Requirement already satisfied: pandas>=0.24.0 in d:\\users\\miret\\anaconda3\\envs\\myenv\\lib\\site-packages (from catboost) (1.0.1)\n",
      "Requirement already satisfied: matplotlib in d:\\users\\miret\\anaconda3\\envs\\myenv\\lib\\site-packages (from catboost) (3.1.3)\n",
      "Requirement already satisfied: six in d:\\users\\miret\\anaconda3\\envs\\myenv\\lib\\site-packages (from catboost) (1.16.0)\n",
      "Requirement already satisfied: pytz>=2017.2 in d:\\users\\miret\\anaconda3\\envs\\myenv\\lib\\site-packages (from pandas>=0.24.0->catboost) (2019.3)\n",
      "Requirement already satisfied: python-dateutil>=2.6.1 in d:\\users\\miret\\anaconda3\\envs\\myenv\\lib\\site-packages (from pandas>=0.24.0->catboost) (2.8.2)\n",
      "Requirement already satisfied: cycler>=0.10 in d:\\users\\miret\\anaconda3\\envs\\myenv\\lib\\site-packages (from matplotlib->catboost) (0.10.0)\n",
      "Requirement already satisfied: pyparsing!=2.0.4,!=2.1.2,!=2.1.6,>=2.0.1 in d:\\users\\miret\\anaconda3\\envs\\myenv\\lib\\site-packages (from matplotlib->catboost) (2.4.6)\n",
      "Requirement already satisfied: kiwisolver>=1.0.1 in d:\\users\\miret\\anaconda3\\envs\\myenv\\lib\\site-packages (from matplotlib->catboost) (1.1.0)\n",
      "Requirement already satisfied: setuptools in d:\\users\\miret\\anaconda3\\envs\\myenv\\lib\\site-packages (from kiwisolver>=1.0.1->matplotlib->catboost) (58.0.4)\n",
      "Requirement already satisfied: tenacity>=6.2.0 in d:\\users\\miret\\anaconda3\\envs\\myenv\\lib\\site-packages (from plotly->catboost) (8.0.1)\n",
      "Note: you may need to restart the kernel to use updated packages.\n"
     ]
    }
   ],
   "source": [
    "# Check for Catboost existence if not it will install it using pip\n",
    "%pip install catboost\n",
    "\n",
    "import pandas as pd\n",
    "import numpy as np\n",
    "import matplotlib.pyplot as plt\n",
    "from sklearn.metrics import plot_confusion_matrix\n",
    "from sklearn.model_selection import train_test_split\n",
    "from sklearn.preprocessing import MinMaxScaler\n",
    "from catboost import CatBoostClassifier"
   ]
  },
  {
   "cell_type": "markdown",
   "metadata": {},
   "source": [
    "Some Definitions concerning Catboost models used below in the 2 models:\n",
    "- l2_leaf_reg: Coefficient at the L2 regularization term of the cost function.\n",
    "- rsm: Random subspace method. The percentage of features to use at each split selection.\n",
    "- devices: Specifies the 2 categories we have.\n",
    "- max_depth: each decision tree maximum depth."
   ]
  },
  {
   "cell_type": "markdown",
   "metadata": {},
   "source": [
    "Dataset Splitting and PreProcessing"
   ]
  },
  {
   "cell_type": "code",
   "execution_count": 9,
   "metadata": {},
   "outputs": [
    {
     "name": "stdout",
     "output_type": "stream",
     "text": [
      "[[False False False ... False False False]\n",
      " [False False False ... False False False]\n",
      " [False False False ... False False False]\n",
      " ...\n",
      " [False False False ... False False False]\n",
      " [False False False ... False False False]\n",
      " [False False False ... False False False]]\n"
     ]
    }
   ],
   "source": [
    "# Read Dataset\n",
    "dataset = pd.read_csv('../Dataset/Breast Cancer Data.csv') \n",
    "\n",
    "# print(dataset.info) --> checking nan values\n",
    "# col 33 nan values so we'll ignore it.\n",
    "\n",
    "# Split and X and Y and convert them to ndarray by taking the values only.\n",
    "x = dataset.iloc[:, 2:32].values\n",
    "\n",
    "# Mapping 2 categories to values\n",
    "y = dataset[\"diagnosis\"].replace({\"M\": 0, \"B\":1})\n",
    "\n",
    "# Normalizing the data\n",
    "scaler = MinMaxScaler()\n",
    "x = scaler.fit_transform(x)\n",
    "\n",
    "# Check nan if there's missing values.\n",
    "print(np.isnan(x))"
   ]
  },
  {
   "cell_type": "markdown",
   "metadata": {},
   "source": [
    "Model 1\n",
    "- Training Dataset = 70% of the numercical dataset\n",
    "- Test Dataset = 30% of the numercical dataset\n",
    "\n",
    "* Accuracy: 98.24%\n",
    "* Model can be shrinked to 40 iteration only."
   ]
  },
  {
   "cell_type": "code",
   "execution_count": 4,
   "metadata": {},
   "outputs": [
    {
     "name": "stdout",
     "output_type": "stream",
     "text": [
      "0:\tlearn: 0.9572864\ttest: 0.8947368\tbest: 0.8947368 (0)\ttotal: 255ms\tremaining: 20.1s\n",
      "1:\tlearn: 0.9773869\ttest: 0.9181287\tbest: 0.9181287 (1)\ttotal: 262ms\tremaining: 10.2s\n",
      "2:\tlearn: 0.9773869\ttest: 0.9239766\tbest: 0.9239766 (2)\ttotal: 269ms\tremaining: 6.9s\n",
      "3:\tlearn: 0.9899497\ttest: 0.9239766\tbest: 0.9239766 (2)\ttotal: 276ms\tremaining: 5.24s\n",
      "4:\tlearn: 0.9899497\ttest: 0.9590643\tbest: 0.9590643 (4)\ttotal: 284ms\tremaining: 4.26s\n",
      "5:\tlearn: 0.9899497\ttest: 0.9649123\tbest: 0.9649123 (5)\ttotal: 291ms\tremaining: 3.59s\n",
      "6:\tlearn: 0.9924623\ttest: 0.9590643\tbest: 0.9649123 (5)\ttotal: 299ms\tremaining: 3.12s\n",
      "7:\tlearn: 0.9924623\ttest: 0.9590643\tbest: 0.9649123 (5)\ttotal: 305ms\tremaining: 2.75s\n",
      "8:\tlearn: 0.9924623\ttest: 0.9590643\tbest: 0.9649123 (5)\ttotal: 316ms\tremaining: 2.5s\n",
      "9:\tlearn: 0.9924623\ttest: 0.9532164\tbest: 0.9649123 (5)\ttotal: 326ms\tremaining: 2.28s\n",
      "10:\tlearn: 0.9924623\ttest: 0.9590643\tbest: 0.9649123 (5)\ttotal: 333ms\tremaining: 2.09s\n",
      "11:\tlearn: 0.9924623\ttest: 0.9649123\tbest: 0.9649123 (5)\ttotal: 342ms\tremaining: 1.94s\n",
      "12:\tlearn: 0.9924623\ttest: 0.9649123\tbest: 0.9649123 (5)\ttotal: 352ms\tremaining: 1.81s\n",
      "13:\tlearn: 0.9899497\ttest: 0.9649123\tbest: 0.9649123 (5)\ttotal: 362ms\tremaining: 1.7s\n",
      "14:\tlearn: 0.9924623\ttest: 0.9649123\tbest: 0.9649123 (5)\ttotal: 375ms\tremaining: 1.63s\n",
      "15:\tlearn: 0.9924623\ttest: 0.9707602\tbest: 0.9707602 (15)\ttotal: 387ms\tremaining: 1.55s\n",
      "16:\tlearn: 0.9899497\ttest: 0.9707602\tbest: 0.9707602 (15)\ttotal: 398ms\tremaining: 1.47s\n",
      "17:\tlearn: 0.9924623\ttest: 0.9590643\tbest: 0.9707602 (15)\ttotal: 409ms\tremaining: 1.41s\n",
      "18:\tlearn: 0.9924623\ttest: 0.9766082\tbest: 0.9766082 (18)\ttotal: 419ms\tremaining: 1.34s\n",
      "19:\tlearn: 0.9924623\ttest: 0.9766082\tbest: 0.9766082 (18)\ttotal: 429ms\tremaining: 1.29s\n",
      "20:\tlearn: 0.9924623\ttest: 0.9766082\tbest: 0.9766082 (18)\ttotal: 439ms\tremaining: 1.23s\n",
      "21:\tlearn: 0.9924623\ttest: 0.9766082\tbest: 0.9766082 (18)\ttotal: 450ms\tremaining: 1.19s\n",
      "22:\tlearn: 0.9924623\ttest: 0.9766082\tbest: 0.9766082 (18)\ttotal: 462ms\tremaining: 1.14s\n",
      "23:\tlearn: 0.9924623\ttest: 0.9766082\tbest: 0.9766082 (18)\ttotal: 476ms\tremaining: 1.11s\n",
      "24:\tlearn: 0.9924623\ttest: 0.9766082\tbest: 0.9766082 (18)\ttotal: 484ms\tremaining: 1.06s\n",
      "25:\tlearn: 0.9924623\ttest: 0.9766082\tbest: 0.9766082 (18)\ttotal: 499ms\tremaining: 1.03s\n",
      "26:\tlearn: 0.9924623\ttest: 0.9766082\tbest: 0.9766082 (18)\ttotal: 510ms\tremaining: 1s\n",
      "27:\tlearn: 0.9924623\ttest: 0.9707602\tbest: 0.9766082 (18)\ttotal: 519ms\tremaining: 964ms\n",
      "28:\tlearn: 0.9924623\ttest: 0.9707602\tbest: 0.9766082 (18)\ttotal: 531ms\tremaining: 934ms\n",
      "29:\tlearn: 0.9924623\ttest: 0.9649123\tbest: 0.9766082 (18)\ttotal: 542ms\tremaining: 903ms\n",
      "30:\tlearn: 0.9924623\ttest: 0.9766082\tbest: 0.9766082 (18)\ttotal: 553ms\tremaining: 874ms\n",
      "31:\tlearn: 0.9924623\ttest: 0.9766082\tbest: 0.9766082 (18)\ttotal: 563ms\tremaining: 845ms\n",
      "32:\tlearn: 0.9924623\ttest: 0.9766082\tbest: 0.9766082 (18)\ttotal: 575ms\tremaining: 819ms\n",
      "33:\tlearn: 0.9924623\ttest: 0.9766082\tbest: 0.9766082 (18)\ttotal: 586ms\tremaining: 793ms\n",
      "34:\tlearn: 0.9924623\ttest: 0.9766082\tbest: 0.9766082 (18)\ttotal: 604ms\tremaining: 776ms\n",
      "35:\tlearn: 0.9924623\ttest: 0.9766082\tbest: 0.9766082 (18)\ttotal: 614ms\tremaining: 750ms\n",
      "36:\tlearn: 0.9924623\ttest: 0.9766082\tbest: 0.9766082 (18)\ttotal: 662ms\tremaining: 769ms\n",
      "37:\tlearn: 0.9924623\ttest: 0.9707602\tbest: 0.9766082 (18)\ttotal: 687ms\tremaining: 760ms\n",
      "38:\tlearn: 0.9924623\ttest: 0.9649123\tbest: 0.9766082 (18)\ttotal: 701ms\tremaining: 737ms\n",
      "39:\tlearn: 0.9924623\ttest: 0.9824561\tbest: 0.9824561 (39)\ttotal: 715ms\tremaining: 715ms\n",
      "40:\tlearn: 0.9924623\ttest: 0.9824561\tbest: 0.9824561 (39)\ttotal: 726ms\tremaining: 690ms\n",
      "41:\tlearn: 0.9949749\ttest: 0.9824561\tbest: 0.9824561 (39)\ttotal: 739ms\tremaining: 669ms\n",
      "42:\tlearn: 0.9949749\ttest: 0.9766082\tbest: 0.9824561 (39)\ttotal: 754ms\tremaining: 648ms\n",
      "43:\tlearn: 0.9949749\ttest: 0.9824561\tbest: 0.9824561 (39)\ttotal: 764ms\tremaining: 625ms\n",
      "44:\tlearn: 0.9949749\ttest: 0.9824561\tbest: 0.9824561 (39)\ttotal: 776ms\tremaining: 603ms\n",
      "45:\tlearn: 0.9949749\ttest: 0.9824561\tbest: 0.9824561 (39)\ttotal: 786ms\tremaining: 581ms\n",
      "46:\tlearn: 0.9974874\ttest: 0.9824561\tbest: 0.9824561 (39)\ttotal: 814ms\tremaining: 572ms\n",
      "47:\tlearn: 0.9974874\ttest: 0.9824561\tbest: 0.9824561 (39)\ttotal: 828ms\tremaining: 552ms\n",
      "48:\tlearn: 0.9974874\ttest: 0.9766082\tbest: 0.9824561 (39)\ttotal: 840ms\tremaining: 531ms\n",
      "49:\tlearn: 0.9974874\ttest: 0.9707602\tbest: 0.9824561 (39)\ttotal: 853ms\tremaining: 512ms\n",
      "50:\tlearn: 0.9974874\ttest: 0.9707602\tbest: 0.9824561 (39)\ttotal: 865ms\tremaining: 492ms\n",
      "51:\tlearn: 0.9974874\ttest: 0.9707602\tbest: 0.9824561 (39)\ttotal: 889ms\tremaining: 479ms\n",
      "52:\tlearn: 0.9974874\ttest: 0.9707602\tbest: 0.9824561 (39)\ttotal: 909ms\tremaining: 463ms\n",
      "53:\tlearn: 0.9974874\ttest: 0.9766082\tbest: 0.9824561 (39)\ttotal: 923ms\tremaining: 444ms\n",
      "54:\tlearn: 0.9974874\ttest: 0.9707602\tbest: 0.9824561 (39)\ttotal: 933ms\tremaining: 424ms\n",
      "55:\tlearn: 0.9974874\ttest: 0.9707602\tbest: 0.9824561 (39)\ttotal: 944ms\tremaining: 405ms\n",
      "56:\tlearn: 0.9974874\ttest: 0.9766082\tbest: 0.9824561 (39)\ttotal: 956ms\tremaining: 386ms\n",
      "57:\tlearn: 0.9974874\ttest: 0.9649123\tbest: 0.9824561 (39)\ttotal: 970ms\tremaining: 368ms\n",
      "58:\tlearn: 0.9974874\ttest: 0.9707602\tbest: 0.9824561 (39)\ttotal: 980ms\tremaining: 349ms\n",
      "59:\tlearn: 0.9974874\ttest: 0.9707602\tbest: 0.9824561 (39)\ttotal: 997ms\tremaining: 332ms\n",
      "60:\tlearn: 0.9974874\ttest: 0.9707602\tbest: 0.9824561 (39)\ttotal: 1.01s\tremaining: 315ms\n",
      "61:\tlearn: 0.9974874\ttest: 0.9766082\tbest: 0.9824561 (39)\ttotal: 1.02s\tremaining: 297ms\n",
      "62:\tlearn: 0.9974874\ttest: 0.9766082\tbest: 0.9824561 (39)\ttotal: 1.04s\tremaining: 280ms\n",
      "63:\tlearn: 0.9974874\ttest: 0.9766082\tbest: 0.9824561 (39)\ttotal: 1.05s\tremaining: 263ms\n",
      "64:\tlearn: 0.9974874\ttest: 0.9766082\tbest: 0.9824561 (39)\ttotal: 1.07s\tremaining: 246ms\n",
      "65:\tlearn: 0.9974874\ttest: 0.9766082\tbest: 0.9824561 (39)\ttotal: 1.1s\tremaining: 232ms\n",
      "66:\tlearn: 1.0000000\ttest: 0.9766082\tbest: 0.9824561 (39)\ttotal: 1.11s\tremaining: 215ms\n",
      "67:\tlearn: 1.0000000\ttest: 0.9766082\tbest: 0.9824561 (39)\ttotal: 1.13s\tremaining: 199ms\n",
      "68:\tlearn: 1.0000000\ttest: 0.9766082\tbest: 0.9824561 (39)\ttotal: 1.14s\tremaining: 182ms\n",
      "69:\tlearn: 1.0000000\ttest: 0.9707602\tbest: 0.9824561 (39)\ttotal: 1.16s\tremaining: 165ms\n",
      "70:\tlearn: 1.0000000\ttest: 0.9707602\tbest: 0.9824561 (39)\ttotal: 1.17s\tremaining: 148ms\n",
      "71:\tlearn: 1.0000000\ttest: 0.9707602\tbest: 0.9824561 (39)\ttotal: 1.18s\tremaining: 131ms\n",
      "72:\tlearn: 1.0000000\ttest: 0.9707602\tbest: 0.9824561 (39)\ttotal: 1.19s\tremaining: 114ms\n",
      "73:\tlearn: 1.0000000\ttest: 0.9707602\tbest: 0.9824561 (39)\ttotal: 1.21s\tremaining: 98.2ms\n",
      "74:\tlearn: 1.0000000\ttest: 0.9766082\tbest: 0.9824561 (39)\ttotal: 1.23s\tremaining: 81.9ms\n",
      "75:\tlearn: 1.0000000\ttest: 0.9824561\tbest: 0.9824561 (39)\ttotal: 1.24s\tremaining: 65.3ms\n",
      "76:\tlearn: 1.0000000\ttest: 0.9824561\tbest: 0.9824561 (39)\ttotal: 1.25s\tremaining: 48.9ms\n",
      "77:\tlearn: 1.0000000\ttest: 0.9824561\tbest: 0.9824561 (39)\ttotal: 1.27s\tremaining: 32.6ms\n",
      "78:\tlearn: 1.0000000\ttest: 0.9824561\tbest: 0.9824561 (39)\ttotal: 1.28s\tremaining: 16.2ms\n",
      "79:\tlearn: 1.0000000\ttest: 0.9766082\tbest: 0.9824561 (39)\ttotal: 1.29s\tremaining: 0us\n",
      "\n",
      "bestTest = 0.9824561404\n",
      "bestIteration = 39\n",
      "\n",
      "Shrink model to first 40 iterations.\n"
     ]
    },
    {
     "data": {
      "image/png": "[encoded data removed]",
      "text/plain": [
       "<Figure size 432x288 with 2 Axes>"
      ]
     },
     "metadata": {
      "needs_background": "light"
     },
     "output_type": "display_data"
    }
   ],
   "source": [
    "# Split Dataset\n",
    "xtrain, xtest, ytrain, ytest = train_test_split(x,y,test_size=0.3,shuffle=True, random_state=0)\n",
    "\n",
    "clf = CatBoostClassifier(iterations=80,learning_rate = 0.03, eval_metric=\"Accuracy\", devices='0:1', max_depth=8 ,l2_leaf_reg=0.8,rsm=0.4)\n",
    "clf.fit(xtrain,ytrain,eval_set = (xtest, ytest),verbose = True)\n",
    "\n",
    "# bestTest = 0.9824561404\n",
    "# bestIteration = 39\n",
    "\n",
    "\n",
    "# Plotting Confusion Matrix\n",
    "plot_confusion_matrix(clf, xtest, ytest) \n",
    "plt.show()"
   ]
  },
  {
   "cell_type": "markdown",
   "metadata": {},
   "source": [
    "Model 2\n",
    "- Training Dataset = 80% of the numercical dataset\n",
    "- Test Dataset = 20% of the numercical dataset\n",
    "\n",
    "* Accuracy: 99.12%\n",
    "* Model can be shrinked to 97 iteration only."
   ]
  },
  {
   "cell_type": "code",
   "execution_count": 5,
   "metadata": {},
   "outputs": [
    {
     "name": "stdout",
     "output_type": "stream",
     "text": [
      "0:\tlearn: 0.9472527\ttest: 0.9473684\tbest: 0.9473684 (0)\ttotal: 2.81ms\tremaining: 307ms\n",
      "1:\tlearn: 0.9472527\ttest: 0.9210526\tbest: 0.9473684 (0)\ttotal: 5.33ms\tremaining: 288ms\n",
      "2:\tlearn: 0.9516484\ttest: 0.9298246\tbest: 0.9473684 (0)\ttotal: 8.96ms\tremaining: 319ms\n",
      "3:\tlearn: 0.9626374\ttest: 0.9385965\tbest: 0.9473684 (0)\ttotal: 12.2ms\tremaining: 323ms\n",
      "4:\tlearn: 0.9692308\ttest: 0.9298246\tbest: 0.9473684 (0)\ttotal: 15.5ms\tremaining: 327ms\n",
      "5:\tlearn: 0.9780220\ttest: 0.9385965\tbest: 0.9473684 (0)\ttotal: 18.2ms\tremaining: 315ms\n",
      "6:\tlearn: 0.9802198\ttest: 0.9473684\tbest: 0.9473684 (0)\ttotal: 21.3ms\tremaining: 314ms\n",
      "7:\tlearn: 0.9780220\ttest: 0.9561404\tbest: 0.9561404 (7)\ttotal: 24.4ms\tremaining: 311ms\n",
      "8:\tlearn: 0.9780220\ttest: 0.9561404\tbest: 0.9561404 (7)\ttotal: 27.8ms\tremaining: 312ms\n",
      "9:\tlearn: 0.9802198\ttest: 0.9473684\tbest: 0.9561404 (7)\ttotal: 30.8ms\tremaining: 308ms\n",
      "10:\tlearn: 0.9824176\ttest: 0.9385965\tbest: 0.9561404 (7)\ttotal: 34.3ms\tremaining: 309ms\n",
      "11:\tlearn: 0.9802198\ttest: 0.9385965\tbest: 0.9561404 (7)\ttotal: 37.3ms\tremaining: 304ms\n",
      "12:\tlearn: 0.9802198\ttest: 0.9473684\tbest: 0.9561404 (7)\ttotal: 40.8ms\tremaining: 305ms\n",
      "13:\tlearn: 0.9802198\ttest: 0.9561404\tbest: 0.9561404 (7)\ttotal: 44.2ms\tremaining: 303ms\n",
      "14:\tlearn: 0.9824176\ttest: 0.9561404\tbest: 0.9561404 (7)\ttotal: 48ms\tremaining: 304ms\n",
      "15:\tlearn: 0.9846154\ttest: 0.9561404\tbest: 0.9561404 (7)\ttotal: 51ms\tremaining: 300ms\n",
      "16:\tlearn: 0.9846154\ttest: 0.9473684\tbest: 0.9561404 (7)\ttotal: 54.2ms\tremaining: 296ms\n",
      "17:\tlearn: 0.9846154\ttest: 0.9473684\tbest: 0.9561404 (7)\ttotal: 57.3ms\tremaining: 293ms\n",
      "18:\tlearn: 0.9868132\ttest: 0.9473684\tbest: 0.9561404 (7)\ttotal: 60.6ms\tremaining: 290ms\n",
      "19:\tlearn: 0.9868132\ttest: 0.9473684\tbest: 0.9561404 (7)\ttotal: 63.3ms\tremaining: 285ms\n",
      "20:\tlearn: 0.9890110\ttest: 0.9649123\tbest: 0.9649123 (20)\ttotal: 66.1ms\tremaining: 280ms\n",
      "21:\tlearn: 0.9890110\ttest: 0.9649123\tbest: 0.9649123 (20)\ttotal: 69.9ms\tremaining: 280ms\n",
      "22:\tlearn: 0.9912088\ttest: 0.9649123\tbest: 0.9649123 (20)\ttotal: 73.9ms\tremaining: 280ms\n",
      "23:\tlearn: 0.9912088\ttest: 0.9649123\tbest: 0.9649123 (20)\ttotal: 77ms\tremaining: 276ms\n",
      "24:\tlearn: 0.9912088\ttest: 0.9561404\tbest: 0.9649123 (20)\ttotal: 79.5ms\tremaining: 270ms\n",
      "25:\tlearn: 0.9912088\ttest: 0.9649123\tbest: 0.9649123 (20)\ttotal: 82.4ms\tremaining: 266ms\n",
      "26:\tlearn: 0.9912088\ttest: 0.9561404\tbest: 0.9649123 (20)\ttotal: 85.5ms\tremaining: 263ms\n",
      "27:\tlearn: 0.9912088\ttest: 0.9561404\tbest: 0.9649123 (20)\ttotal: 88.8ms\tremaining: 260ms\n",
      "28:\tlearn: 0.9934066\ttest: 0.9561404\tbest: 0.9649123 (20)\ttotal: 92.1ms\tremaining: 257ms\n",
      "29:\tlearn: 0.9934066\ttest: 0.9561404\tbest: 0.9649123 (20)\ttotal: 95.2ms\tremaining: 254ms\n",
      "30:\tlearn: 0.9912088\ttest: 0.9561404\tbest: 0.9649123 (20)\ttotal: 113ms\tremaining: 289ms\n",
      "31:\tlearn: 0.9934066\ttest: 0.9473684\tbest: 0.9649123 (20)\ttotal: 117ms\tremaining: 285ms\n",
      "32:\tlearn: 0.9934066\ttest: 0.9473684\tbest: 0.9649123 (20)\ttotal: 119ms\tremaining: 279ms\n",
      "33:\tlearn: 0.9956044\ttest: 0.9473684\tbest: 0.9649123 (20)\ttotal: 122ms\tremaining: 274ms\n",
      "34:\tlearn: 0.9956044\ttest: 0.9473684\tbest: 0.9649123 (20)\ttotal: 125ms\tremaining: 268ms\n",
      "35:\tlearn: 0.9956044\ttest: 0.9473684\tbest: 0.9649123 (20)\ttotal: 128ms\tremaining: 264ms\n",
      "36:\tlearn: 0.9956044\ttest: 0.9561404\tbest: 0.9649123 (20)\ttotal: 132ms\tremaining: 260ms\n",
      "37:\tlearn: 0.9956044\ttest: 0.9561404\tbest: 0.9649123 (20)\ttotal: 135ms\tremaining: 256ms\n",
      "38:\tlearn: 0.9956044\ttest: 0.9561404\tbest: 0.9649123 (20)\ttotal: 138ms\tremaining: 251ms\n",
      "39:\tlearn: 0.9956044\ttest: 0.9561404\tbest: 0.9649123 (20)\ttotal: 141ms\tremaining: 247ms\n",
      "40:\tlearn: 0.9978022\ttest: 0.9473684\tbest: 0.9649123 (20)\ttotal: 144ms\tremaining: 243ms\n",
      "41:\tlearn: 0.9978022\ttest: 0.9473684\tbest: 0.9649123 (20)\ttotal: 147ms\tremaining: 238ms\n",
      "42:\tlearn: 0.9978022\ttest: 0.9473684\tbest: 0.9649123 (20)\ttotal: 155ms\tremaining: 241ms\n",
      "43:\tlearn: 0.9978022\ttest: 0.9473684\tbest: 0.9649123 (20)\ttotal: 158ms\tremaining: 236ms\n",
      "44:\tlearn: 1.0000000\ttest: 0.9473684\tbest: 0.9649123 (20)\ttotal: 160ms\tremaining: 231ms\n",
      "45:\tlearn: 1.0000000\ttest: 0.9473684\tbest: 0.9649123 (20)\ttotal: 164ms\tremaining: 228ms\n",
      "46:\tlearn: 1.0000000\ttest: 0.9473684\tbest: 0.9649123 (20)\ttotal: 166ms\tremaining: 223ms\n",
      "47:\tlearn: 1.0000000\ttest: 0.9473684\tbest: 0.9649123 (20)\ttotal: 170ms\tremaining: 219ms\n",
      "48:\tlearn: 1.0000000\ttest: 0.9561404\tbest: 0.9649123 (20)\ttotal: 172ms\tremaining: 214ms\n",
      "49:\tlearn: 1.0000000\ttest: 0.9473684\tbest: 0.9649123 (20)\ttotal: 175ms\tremaining: 210ms\n",
      "50:\tlearn: 1.0000000\ttest: 0.9561404\tbest: 0.9649123 (20)\ttotal: 178ms\tremaining: 206ms\n",
      "51:\tlearn: 1.0000000\ttest: 0.9561404\tbest: 0.9649123 (20)\ttotal: 181ms\tremaining: 202ms\n",
      "52:\tlearn: 1.0000000\ttest: 0.9561404\tbest: 0.9649123 (20)\ttotal: 185ms\tremaining: 199ms\n",
      "53:\tlearn: 1.0000000\ttest: 0.9649123\tbest: 0.9649123 (20)\ttotal: 188ms\tremaining: 195ms\n",
      "54:\tlearn: 1.0000000\ttest: 0.9561404\tbest: 0.9649123 (20)\ttotal: 192ms\tremaining: 192ms\n",
      "55:\tlearn: 1.0000000\ttest: 0.9649123\tbest: 0.9649123 (20)\ttotal: 195ms\tremaining: 188ms\n",
      "56:\tlearn: 1.0000000\ttest: 0.9649123\tbest: 0.9649123 (20)\ttotal: 199ms\tremaining: 185ms\n",
      "57:\tlearn: 1.0000000\ttest: 0.9649123\tbest: 0.9649123 (20)\ttotal: 202ms\tremaining: 181ms\n",
      "58:\tlearn: 1.0000000\ttest: 0.9649123\tbest: 0.9649123 (20)\ttotal: 205ms\tremaining: 177ms\n",
      "59:\tlearn: 1.0000000\ttest: 0.9649123\tbest: 0.9649123 (20)\ttotal: 209ms\tremaining: 174ms\n",
      "60:\tlearn: 1.0000000\ttest: 0.9649123\tbest: 0.9649123 (20)\ttotal: 212ms\tremaining: 170ms\n",
      "61:\tlearn: 1.0000000\ttest: 0.9649123\tbest: 0.9649123 (20)\ttotal: 215ms\tremaining: 167ms\n",
      "62:\tlearn: 1.0000000\ttest: 0.9649123\tbest: 0.9649123 (20)\ttotal: 219ms\tremaining: 163ms\n",
      "63:\tlearn: 1.0000000\ttest: 0.9649123\tbest: 0.9649123 (20)\ttotal: 222ms\tremaining: 160ms\n",
      "64:\tlearn: 1.0000000\ttest: 0.9649123\tbest: 0.9649123 (20)\ttotal: 225ms\tremaining: 156ms\n",
      "65:\tlearn: 1.0000000\ttest: 0.9649123\tbest: 0.9649123 (20)\ttotal: 229ms\tremaining: 152ms\n",
      "66:\tlearn: 1.0000000\ttest: 0.9736842\tbest: 0.9736842 (66)\ttotal: 231ms\tremaining: 149ms\n",
      "67:\tlearn: 1.0000000\ttest: 0.9736842\tbest: 0.9736842 (66)\ttotal: 235ms\tremaining: 145ms\n",
      "68:\tlearn: 1.0000000\ttest: 0.9649123\tbest: 0.9736842 (66)\ttotal: 238ms\tremaining: 141ms\n",
      "69:\tlearn: 1.0000000\ttest: 0.9736842\tbest: 0.9736842 (66)\ttotal: 241ms\tremaining: 138ms\n",
      "70:\tlearn: 1.0000000\ttest: 0.9736842\tbest: 0.9736842 (66)\ttotal: 245ms\tremaining: 134ms\n",
      "71:\tlearn: 1.0000000\ttest: 0.9736842\tbest: 0.9736842 (66)\ttotal: 255ms\tremaining: 135ms\n",
      "72:\tlearn: 1.0000000\ttest: 0.9736842\tbest: 0.9736842 (66)\ttotal: 257ms\tremaining: 130ms\n",
      "73:\tlearn: 1.0000000\ttest: 0.9824561\tbest: 0.9824561 (73)\ttotal: 260ms\tremaining: 127ms\n",
      "74:\tlearn: 1.0000000\ttest: 0.9824561\tbest: 0.9824561 (73)\ttotal: 263ms\tremaining: 123ms\n",
      "75:\tlearn: 1.0000000\ttest: 0.9824561\tbest: 0.9824561 (73)\ttotal: 266ms\tremaining: 119ms\n",
      "76:\tlearn: 1.0000000\ttest: 0.9824561\tbest: 0.9824561 (73)\ttotal: 269ms\tremaining: 115ms\n",
      "77:\tlearn: 1.0000000\ttest: 0.9824561\tbest: 0.9824561 (73)\ttotal: 272ms\tremaining: 112ms\n",
      "78:\tlearn: 1.0000000\ttest: 0.9824561\tbest: 0.9824561 (73)\ttotal: 275ms\tremaining: 108ms\n",
      "79:\tlearn: 1.0000000\ttest: 0.9824561\tbest: 0.9824561 (73)\ttotal: 278ms\tremaining: 104ms\n",
      "80:\tlearn: 1.0000000\ttest: 0.9824561\tbest: 0.9824561 (73)\ttotal: 281ms\tremaining: 101ms\n",
      "81:\tlearn: 1.0000000\ttest: 0.9824561\tbest: 0.9824561 (73)\ttotal: 284ms\tremaining: 96.8ms\n",
      "82:\tlearn: 1.0000000\ttest: 0.9824561\tbest: 0.9824561 (73)\ttotal: 287ms\tremaining: 93.4ms\n",
      "83:\tlearn: 1.0000000\ttest: 0.9824561\tbest: 0.9824561 (73)\ttotal: 290ms\tremaining: 89.8ms\n",
      "84:\tlearn: 1.0000000\ttest: 0.9824561\tbest: 0.9824561 (73)\ttotal: 299ms\tremaining: 87.9ms\n",
      "85:\tlearn: 1.0000000\ttest: 0.9824561\tbest: 0.9824561 (73)\ttotal: 302ms\tremaining: 84.2ms\n",
      "86:\tlearn: 1.0000000\ttest: 0.9824561\tbest: 0.9824561 (73)\ttotal: 304ms\tremaining: 80.5ms\n",
      "87:\tlearn: 1.0000000\ttest: 0.9824561\tbest: 0.9824561 (73)\ttotal: 308ms\tremaining: 76.9ms\n",
      "88:\tlearn: 1.0000000\ttest: 0.9824561\tbest: 0.9824561 (73)\ttotal: 311ms\tremaining: 73.4ms\n",
      "89:\tlearn: 1.0000000\ttest: 0.9824561\tbest: 0.9824561 (73)\ttotal: 316ms\tremaining: 70.2ms\n",
      "90:\tlearn: 1.0000000\ttest: 0.9824561\tbest: 0.9824561 (73)\ttotal: 321ms\tremaining: 67ms\n",
      "91:\tlearn: 1.0000000\ttest: 0.9824561\tbest: 0.9824561 (73)\ttotal: 325ms\tremaining: 63.5ms\n",
      "92:\tlearn: 1.0000000\ttest: 0.9824561\tbest: 0.9824561 (73)\ttotal: 328ms\tremaining: 59.9ms\n",
      "93:\tlearn: 1.0000000\ttest: 0.9824561\tbest: 0.9824561 (73)\ttotal: 332ms\tremaining: 56.5ms\n",
      "94:\tlearn: 1.0000000\ttest: 0.9824561\tbest: 0.9824561 (73)\ttotal: 336ms\tremaining: 53.1ms\n",
      "95:\tlearn: 1.0000000\ttest: 0.9824561\tbest: 0.9824561 (73)\ttotal: 340ms\tremaining: 49.6ms\n",
      "96:\tlearn: 1.0000000\ttest: 0.9912281\tbest: 0.9912281 (96)\ttotal: 345ms\tremaining: 46.3ms\n",
      "97:\tlearn: 1.0000000\ttest: 0.9912281\tbest: 0.9912281 (96)\ttotal: 349ms\tremaining: 42.7ms\n",
      "98:\tlearn: 1.0000000\ttest: 0.9824561\tbest: 0.9912281 (96)\ttotal: 353ms\tremaining: 39.2ms\n",
      "99:\tlearn: 1.0000000\ttest: 0.9912281\tbest: 0.9912281 (96)\ttotal: 356ms\tremaining: 35.6ms\n",
      "100:\tlearn: 1.0000000\ttest: 0.9824561\tbest: 0.9912281 (96)\ttotal: 359ms\tremaining: 32ms\n",
      "101:\tlearn: 1.0000000\ttest: 0.9824561\tbest: 0.9912281 (96)\ttotal: 362ms\tremaining: 28.4ms\n",
      "102:\tlearn: 1.0000000\ttest: 0.9824561\tbest: 0.9912281 (96)\ttotal: 364ms\tremaining: 24.8ms\n",
      "103:\tlearn: 1.0000000\ttest: 0.9824561\tbest: 0.9912281 (96)\ttotal: 368ms\tremaining: 21.2ms\n",
      "104:\tlearn: 1.0000000\ttest: 0.9912281\tbest: 0.9912281 (96)\ttotal: 372ms\tremaining: 17.7ms\n",
      "105:\tlearn: 1.0000000\ttest: 0.9912281\tbest: 0.9912281 (96)\ttotal: 376ms\tremaining: 14.2ms\n",
      "106:\tlearn: 1.0000000\ttest: 0.9824561\tbest: 0.9912281 (96)\ttotal: 379ms\tremaining: 10.6ms\n",
      "107:\tlearn: 1.0000000\ttest: 0.9824561\tbest: 0.9912281 (96)\ttotal: 383ms\tremaining: 7.1ms\n",
      "108:\tlearn: 1.0000000\ttest: 0.9912281\tbest: 0.9912281 (96)\ttotal: 387ms\tremaining: 3.55ms\n",
      "109:\tlearn: 1.0000000\ttest: 0.9824561\tbest: 0.9912281 (96)\ttotal: 390ms\tremaining: 0us\n",
      "\n",
      "bestTest = 0.9912280702\n",
      "bestIteration = 96\n",
      "\n",
      "Shrink model to first 97 iterations.\n"
     ]
    },
    {
     "data": {
      "image/png": "[encoded data removed]",
      "text/plain": [
       "<Figure size 432x288 with 2 Axes>"
      ]
     },
     "metadata": {
      "needs_background": "light"
     },
     "output_type": "display_data"
    }
   ],
   "source": [
    "# Split Dataset\n",
    "xtrain, xtest, ytrain, ytest = train_test_split(x,y,test_size=0.2,shuffle=True, random_state=0)\n",
    "\n",
    "clf = CatBoostClassifier(iterations=110,learning_rate = 0.07, eval_metric=\"Accuracy\", devices='0:1', max_depth=5 ,l2_leaf_reg=0.8,rsm=0.4)\n",
    "clf.fit(xtrain,ytrain,eval_set = (xtest, ytest),verbose = True)\n",
    "\n",
    "# bestTest = 0.9912280702\n",
    "# bestIteration = 96\n",
    "\n",
    "\n",
    "# Plotting Confusion Matrix\n",
    "plot_confusion_matrix(clf, xtest, ytest) \n",
    "plt.show()"
   ]
  }
 ],
 "metadata": {
  "interpreter": {
   "hash": "efcc23a81c135100f015ab71bdf2756d5842e9b337be156fa2d8bf300b9eeb3b"
  },
  "kernelspec": {
   "display_name": "Python 3.6.13 ('myenv')",
   "language": "python",
   "name": "python3"
  },
  "language_info": {
   "codemirror_mode": {
    "name": "ipython",
    "version": 3
   },
   "file_extension": ".py",
   "mimetype": "text/x-python",
   "name": "python",
   "nbconvert_exporter": "python",
   "pygments_lexer": "ipython3",
   "version": "3.6.13"
  },
  "orig_nbformat": 4
 },
 "nbformat": 4,
 "nbformat_minor": 2
}
